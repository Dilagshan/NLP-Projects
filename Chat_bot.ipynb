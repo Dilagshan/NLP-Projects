{
  "nbformat": 4,
  "nbformat_minor": 0,
  "metadata": {
    "colab": {
      "name": "Chat_bot.ipynb",
      "provenance": [],
      "authorship_tag": "ABX9TyOLgoZAKsKmOp2I27ekAq+4",
      "include_colab_link": true
    },
    "kernelspec": {
      "name": "python3",
      "display_name": "Python 3"
    },
    "language_info": {
      "name": "python"
    }
  },
  "cells": [
    {
      "cell_type": "markdown",
      "metadata": {
        "id": "view-in-github",
        "colab_type": "text"
      },
      "source": [
        "<a href=\"https://colab.research.google.com/github/Dilagshan/NLP-Projects/blob/main/Chat_bot.ipynb\" target=\"_parent\"><img src=\"https://colab.research.google.com/assets/colab-badge.svg\" alt=\"Open In Colab\"/></a>"
      ]
    },
    {
      "cell_type": "code",
      "metadata": {
        "id": "EHlWDLfMor26"
      },
      "source": [
        "!pip install spacy --upgrade"
      ],
      "execution_count": null,
      "outputs": []
    },
    {
      "cell_type": "code",
      "metadata": {
        "colab": {
          "base_uri": "https://localhost:8080/",
          "height": 35
        },
        "id": "4pSVGx-QqDC8",
        "outputId": "595a2054-2482-4525-87ee-afb7f27c29fa"
      },
      "source": [
        "import spacy\n",
        "spacy.__version__"
      ],
      "execution_count": 2,
      "outputs": [
        {
          "output_type": "execute_result",
          "data": {
            "application/vnd.google.colaboratory.intrinsic+json": {
              "type": "string"
            },
            "text/plain": [
              "'3.2.0'"
            ]
          },
          "metadata": {},
          "execution_count": 2
        }
      ]
    },
    {
      "cell_type": "code",
      "metadata": {
        "id": "cD5Md5MfqMTY"
      },
      "source": [
        "!python -m spacy download en_core_web_sm"
      ],
      "execution_count": null,
      "outputs": []
    },
    {
      "cell_type": "code",
      "metadata": {
        "id": "EAloM3TEqZhs"
      },
      "source": [
        "import en_core_web_sm"
      ],
      "execution_count": 4,
      "outputs": []
    },
    {
      "cell_type": "code",
      "metadata": {
        "id": "6WMBzGIPqeEt"
      },
      "source": [
        "!pip install goose3"
      ],
      "execution_count": null,
      "outputs": []
    },
    {
      "cell_type": "code",
      "metadata": {
        "id": "t5gDteuOqhNo"
      },
      "source": [
        "from goose3 import Goose\n",
        "g = Goose()\n",
        "url = 'https://en.wikipedia.org/wiki/Natural_language_processing'\n",
        "article = g.extract(url)"
      ],
      "execution_count": 6,
      "outputs": []
    },
    {
      "cell_type": "code",
      "metadata": {
        "colab": {
          "base_uri": "https://localhost:8080/",
          "height": 35
        },
        "id": "5VcFAOpJql3X",
        "outputId": "ebe8ff7f-f000-453f-c902-a7f44b22c996"
      },
      "source": [
        "article.title"
      ],
      "execution_count": 7,
      "outputs": [
        {
          "output_type": "execute_result",
          "data": {
            "application/vnd.google.colaboratory.intrinsic+json": {
              "type": "string"
            },
            "text/plain": [
              "'Natural language processing - Wikipedia'"
            ]
          },
          "metadata": {},
          "execution_count": 7
        }
      ]
    },
    {
      "cell_type": "code",
      "metadata": {
        "colab": {
          "base_uri": "https://localhost:8080/",
          "height": 120
        },
        "id": "oRlKzJwiqqsX",
        "outputId": "ad7c05f7-4bef-4d64-bc75-25a7ef807c03"
      },
      "source": [
        "article.cleaned_text"
      ],
      "execution_count": 8,
      "outputs": [
        {
          "output_type": "execute_result",
          "data": {
            "application/vnd.google.colaboratory.intrinsic+json": {
              "type": "string"
            },
            "text/plain": [
              "'Natural language processing (NLP) is a subfield of linguistics, computer science, and artificial intelligence concerned with the interactions between computers and human language, in particular how to program computers to process and analyze large amounts of natural language data. The goal is a computer capable of \"understanding\" the contents of documents, including the contextual nuances of the language within them. The technology can then accurately extract information and insights contained in the documents as well as categorize and organize the documents themselves.\\n\\nNatural language processing has its roots in the 1950s. Already in 1950, Alan Turing published an article titled \"Computing Machinery and Intelligence\" which proposed what is now called the Turing test as a criterion of intelligence, a task that involves the automated interpretation and generation of natural language, but at the time not articulated as a problem separate from artificial intelligence.\\n\\nThe premise of symbolic NLP is well-summarized by John Searle\\'s Chinese room experiment: Given a collection of rules (e.g., a Chinese phrasebook, with questions and matching answers), the computer emulates natural language understanding (or other NLP tasks) by applying those rules to the data it is confronted with.\\n• 1950s: The Georgetown experiment in 1954 involved fully automatic translation of more than sixty Russian sentences into English. The authors claimed that within three or five years, machine translation would be a solved problem.[2] However, real progress was much slower, and after the ALPAC report in 1966, which found that ten-year-long research had failed to fulfill the expectations, funding for machine translation was dramatically reduced. Little further research in machine translation was conducted until the late 1980s when the first statistical machine translation systems were developed.\\n• 1960s: Some notably successful natural language processing systems developed in the 1960s were SHRDLU, a natural language system working in restricted \"blocks worlds\" with restricted vocabularies, and ELIZA, a simulation of a Rogerian psychotherapist, written by Joseph Weizenbaum between 1964 and 1966. Using almost no information about human thought or emotion, ELIZA sometimes provided a startlingly human-like interaction. When the \"patient\" exceeded the very small knowledge base, ELIZA might provide a generic response, for example, responding to \"My head hurts\" with \"Why do you say your head hurts?\".\\n• 1970s: During the 1970s, many programmers began to write \"conceptual ontologies\", which structured real-world information into computer-understandable data. Examples are MARGIE (Schank, 1975), SAM (Cullingford, 1978), PAM (Wilensky, 1978), TaleSpin (Meehan, 1976), QUALM (Lehnert, 1977), Politics (Carbonell, 1979), and Plot Units (Lehnert 1981). During this time, the first many chatterbots were written (e.g., PARRY).\\n• 1980s: The 1980s and early 1990s mark the hey-day of symbolic methods in NLP. Focus areas of the time included research on rule-based parsing (e.g., the development of HPSG as a computational operationalization of generative grammar), morphology (e.g., two-level morphology[3]), semantics (e.g., Lesk algorithm), reference (e.g., within Centering Theory[4]) and other areas of natural language understanding (e.g., in the Rhetorical Structure Theory). Other lines of research were continued, e.g., the development of chatterbots with Racter and Jabberwacky. An important development (that eventually led to the statistical turn in the 1990s) was the rising importance of quantitative evaluation in this period.[5]\\n\\nUp to the 1980s, most natural language processing systems were based on complex sets of hand-written rules. Starting in the late 1980s, however, there was a revolution in natural language processing with the introduction of machine learning algorithms for language processing. This was due to both the steady increase in computational power (see Moore\\'s law) and the gradual lessening of the dominance of Chomskyan theories of linguistics (e.g. transformational grammar), whose theoretical underpinnings discouraged the sort of corpus linguistics that underlies the machine-learning approach to language processing.[6]\\n• 1990s: Many of the notable early successes on statistical methods in NLP occurred in the field of machine translation, due especially to work at IBM Research. These systems were able to take advantage of existing multilingual textual corpora that had been produced by the Parliament of Canada and the European Union as a result of laws calling for the translation of all governmental proceedings into all official languages of the corresponding systems of government. However, most other systems depended on corpora specifically developed for the tasks implemented by these systems, which was (and often continues to be) a major limitation in the success of these systems. As a result, a great deal of research has gone into methods of more effectively learning from limited amounts of data.\\n• 2000s: With the growth of the web, increasing amounts of raw (unannotated) language data has become available since the mid-1990s. Research has thus increasingly focused on unsupervised and semi-supervised learning algorithms. Such algorithms can learn from data that has not been hand-annotated with the desired answers or using a combination of annotated and non-annotated data. Generally, this task is much more difficult than supervised learning, and typically produces less accurate results for a given amount of input data. However, there is an enormous amount of non-annotated data available (including, among other things, the entire content of the World Wide Web), which can often make up for the inferior results if the algorithm used has a low enough time complexity to be practical.\\n\\nIn the 2010s, representation learning and deep neural network-style machine learning methods became widespread in natural language processing, due in part to a flurry of results showing that such techniques[7][8] can achieve state-of-the-art results in many natural language tasks, for example in language modeling,[9] parsing,[10][11] and many others. This is increasingly important in medicine and healthcare, where NLP is being used to analyze notes and text in electronic health records that would otherwise be inaccessible for study when seeking to improve care.[12]\\n\\nIn the early days, many language-processing systems were designed by symbolic methods, i.e., the hand-coding of a set of rules, coupled with a dictionary lookup:[13][14] such as by writing grammars or devising heuristic rules for stemming.\\n\\nMore recent systems based on machine-learning algorithms have many advantages over hand-produced rules:\\n• The learning procedures used during machine learning automatically focus on the most common cases, whereas when writing rules by hand it is often not at all obvious where the effort should be directed.\\n• Automatic learning procedures can make use of statistical inference algorithms to produce models that are robust to unfamiliar input (e.g. containing words or structures that have not been seen before) and to erroneous input (e.g. with misspelled words or words accidentally omitted). Generally, handling such input gracefully with handwritten rules, or, more generally, creating systems of handwritten rules that make soft decisions, is extremely difficult, error-prone and time-consuming.\\n• Systems based on automatically learning the rules can be made more accurate simply by supplying more input data. However, systems based on handwritten rules can only be made more accurate by increasing the complexity of the rules, which is a much more difficult task. In particular, there is a limit to the complexity of systems based on handwritten rules, beyond which the systems become more and more unmanageable. However, creating more data to input to machine-learning systems simply requires a corresponding increase in the number of man-hours worked, generally without significant increases in the complexity of the annotation process.\\n\\nDespite the popularity of machine learning in NLP research, symbolic methods are still (2020) commonly used:\\n• when the amount of training data is insufficient to successfully apply machine learning methods, e.g., for the machine translation of low-resource languages such as provided by the Apertium system,\\n• for preprocessing in NLP pipelines, e.g., tokenization, or\\n• for postprocessing and transforming the output of NLP pipelines, e.g., for knowledge extraction from syntactic parses.\\n\\nSince the so-called \"statistical revolution\"[15][16] in the late 1980s and mid-1990s, much natural language processing research has relied heavily on machine learning. The machine-learning paradigm calls instead for using statistical inference to automatically learn such rules through the analysis of large corpora (the plural form of corpus, is a set of documents, possibly with human or computer annotations) of typical real-world examples.\\n\\nMany different classes of machine-learning algorithms have been applied to natural-language-processing tasks. These algorithms take as input a large set of \"features\" that are generated from the input data. Increasingly, however, research has focused on statistical models, which make soft, probabilistic decisions based on attaching real-valued weights to each input feature (complex-valued embeddings,[17] and neural networks in general have also been proposed, for e.g. speech[18]). Such models have the advantage that they can express the relative certainty of many different possible answers rather than only one, producing more reliable results when such a model is included as a component of a larger system.\\n\\nSome of the earliest-used machine learning algorithms, such as decision trees, produced systems of hard if-then rules similar to existing hand-written rules. However, part-of-speech tagging introduced the use of hidden Markov models to natural language processing, and increasingly, research has focused on statistical models, which make soft, probabilistic decisions based on attaching real-valued weights to the features making up the input data. The cache language models upon which many speech recognition systems now rely are examples of such statistical models. Such models are generally more robust when given unfamiliar input, especially input that contains errors (as is very common for real-world data), and produce more reliable results when integrated into a larger system comprising multiple subtasks.\\n\\nSince the neural turn, statistical methods in NLP research have been largely replaced by neural networks. However, they continue to be relevant for contexts in which statistical interpretability and transparency is required.\\n\\nA major drawback of statistical methods is that they require elaborate feature engineering. Since 2015,[19] the field has thus largely abandoned statistical methods and shifted to neural networks for machine learning. Popular techniques include the use of word embeddings to capture semantic properties of words, and an increase in end-to-end learning of a higher-level task (e.g., question answering) instead of relying on a pipeline of separate intermediate tasks (e.g., part-of-speech tagging and dependency parsing). In some areas, this shift has entailed substantial changes in how NLP systems are designed, such that deep neural network-based approaches may be viewed as a new paradigm distinct from statistical natural language processing. For instance, the term neural machine translation (NMT) emphasizes the fact that deep learning-based approaches to machine translation directly learn sequence-to-sequence transformations, obviating the need for intermediate steps such as word alignment and language modeling that was used in statistical machine translation (SMT). Latest works tend to use non-technical structure of a given task to build proper neural network.[20]\\n\\nThe following is a list of some of the most commonly researched tasks in natural language processing. Some of these tasks have direct real-world applications, while others more commonly serve as subtasks that are used to aid in solving larger tasks.\\n\\nThough natural language processing tasks are closely intertwined, they can be subdivided into categories for convenience. A coarse division is given below.\\n\\nBased on long-standing trends in the field, it is possible to extrapolate future directions of NLP. As of 2020, three trends among the topics of the long-standing series of CoNLL Shared Tasks can be observed:[36]\\n• Increasing interest in multilinguality, and, potentially, multimodality (English since 1999; Spanish, Dutch since 2002; German since 2003; Bulgarian, Danish, Japanese, Portuguese, Slovenian, Swedish, Turkish since 2006; Basque, Catalan, Chinese, Greek, Hungarian, Italian, Turkish since 2007; Czech since 2009; Arabic since 2012; 2017: 40+ languages; 2018: 60+/100+ languages)\\n• Elimination of symbolic representations (rule-based over supervised towards weakly supervised methods, representation learning and end-to-end systems)\\n\\nMost higher-level NLP applications involve aspects that emulate intelligent behaviour and apparent comprehension of natural language. More broadly speaking, the technical operationalization of increasingly advanced aspects of cognitive behaviour represents one of the developmental trajectories of NLP (see trends among CoNLL shared tasks above).\\n\\nCognition refers to \"the mental action or process of acquiring knowledge and understanding through thought, experience, and the senses.\"[37] Cognitive science is the interdisciplinary, scientific study of the mind and its processes.[38] Cognitive linguistics is an interdisciplinary branch of linguistics, combining knowledge and research from both psychology and linguistics.[39] Especially during the age of symbolic NLP, the area of computational linguistics maintained strong ties with cognitive studies.\\n\\nAs an example, George Lakoff offers a methodology to build natural language processing (NLP) algorithms through the perspective of cognitive science, along with the findings of cognitive linguistics,[40] with two defining aspects:\\n• Apply the theory of conceptual metaphor, explained by Lakoff as “the understanding of one idea, in terms of another” which provides an idea of the intent of the author.[41] For example, consider the English word “big”. When used in a comparison (“That is a big tree”), the author\\'s intent is to imply that the tree is ”physically large” relative to other trees or the authors experience. When used metaphorically (”Tomorrow is a big day”), the author’s intent to imply ”importance”. The intent behind other usages, like in ”She is a big person” will remain somewhat ambiguous to a person and a cognitive NLP algorithm alike without additional information.\\n• Assign relative measures of meaning to a word, phrase, sentence or piece of text based on the information presented before and after the piece of text being analyzed, e.g., by means of a probabilistic context-free grammar (PCFG). The mathematical equation for such algorithms is presented in :\\n\\nTies with cognitive linguistics are part of the historical heritage of NLP, but they have been less frequently addressed since the statistical turn during the 1990s. Nevertheless, approaches to develop cognitive models towards technically operationalizable frameworks have been pursued in the context of various frameworks, e.g., of cognitive grammar,[42] functional grammar,[43] construction grammar,[44] computational psycholinguistics and cognitive neuroscience (e.g., ACT-R), however, with limited uptake in mainstream NLP (as measured by presence on major conferences[45] of the ACL). More recently, ideas of cognitive NLP have been revived as an approach to achieve explainability, e.g., under the notion of \"cognitive AI\".[46] Likewise, ideas of cognitive NLP are inherent to neural models multimodal NLP (although rarely made explicit).[47]'"
            ]
          },
          "metadata": {},
          "execution_count": 8
        }
      ]
    },
    {
      "cell_type": "code",
      "metadata": {
        "colab": {
          "base_uri": "https://localhost:8080/"
        },
        "id": "sy624nu4rgmP",
        "outputId": "e56a66a1-f45f-4204-9db5-7d287e108edf"
      },
      "source": [
        "nlp = spacy.load('en_core_web_sm')\n",
        "nlp"
      ],
      "execution_count": 11,
      "outputs": [
        {
          "output_type": "execute_result",
          "data": {
            "text/plain": [
              "<spacy.lang.en.English at 0x7ff8259bdd90>"
            ]
          },
          "metadata": {},
          "execution_count": 11
        }
      ]
    },
    {
      "cell_type": "code",
      "metadata": {
        "id": "xwHN0Sr4quMk"
      },
      "source": [
        "def preprocessing(sentence):\n",
        "  sentence = sentence.lower()\n",
        "  sentence = sentence.replace('.', '')\n",
        "  tokens = []\n",
        "  tokens = [token.text for token in nlp(sentence) if not (token.is_stop or token.like_num or token.is_punct or token.is_space or len(token) == 1)]\n",
        "  tokens = ' '.join([element for element in tokens])\n",
        "\n",
        "  return tokens"
      ],
      "execution_count": 9,
      "outputs": []
    },
    {
      "cell_type": "code",
      "metadata": {
        "colab": {
          "base_uri": "https://localhost:8080/",
          "height": 120
        },
        "id": "VC-rG7VurCFY",
        "outputId": "3b727501-524d-443c-ea16-12416c3a5348"
      },
      "source": [
        "article_cleaned = preprocessing(article.cleaned_text)\n",
        "article_cleaned"
      ],
      "execution_count": 12,
      "outputs": [
        {
          "output_type": "execute_result",
          "data": {
            "application/vnd.google.colaboratory.intrinsic+json": {
              "type": "string"
            },
            "text/plain": [
              "'natural language processing nlp subfield linguistics computer science artificial intelligence concerned interactions computers human language particular program computers process analyze large amounts natural language data goal computer capable understanding contents documents including contextual nuances language technology accurately extract information insights contained documents categorize organize documents natural language processing roots 1950s alan turing published article titled computing machinery intelligence proposed called turing test criterion intelligence task involves automated interpretation generation natural language time articulated problem separate artificial intelligence premise symbolic nlp summarized john searle chinese room experiment given collection rules eg chinese phrasebook questions matching answers computer emulates natural language understanding nlp tasks applying rules data confronted 1950s georgetown experiment involved fully automatic translation russian sentences english authors claimed years machine translation solved problem[2 real progress slower alpac report found year long research failed fulfill expectations funding machine translation dramatically reduced little research machine translation conducted late 1980s statistical machine translation systems developed 1960s notably successful natural language processing systems developed 1960s shrdlu natural language system working restricted blocks worlds restricted vocabularies eliza simulation rogerian psychotherapist written joseph weizenbaum information human thought emotion eliza provided startlingly human like interaction patient exceeded small knowledge base eliza provide generic response example responding head hurts head hurts 1970s 1970s programmers began write conceptual ontologies structured real world information computer understandable data examples margie schank sam cullingford pam wilensky talespin meehan qualm lehnert politics carbonell plot units lehnert time chatterbots written eg parry 1980s 1980s early 1990s mark hey day symbolic methods nlp focus areas time included research rule based parsing eg development hpsg computational operationalization generative grammar morphology eg level morphology[3 semantics eg lesk algorithm reference eg centering theory[4 areas natural language understanding eg rhetorical structure theory lines research continued eg development chatterbots racter jabberwacky important development eventually led statistical turn 1990s rising importance quantitative evaluation period[5 1980s natural language processing systems based complex sets hand written rules starting late 1980s revolution natural language processing introduction machine learning algorithms language processing steady increase computational power moore law gradual lessening dominance chomskyan theories linguistics eg transformational grammar theoretical underpinnings discouraged sort corpus linguistics underlies machine learning approach language processing[6 1990s notable early successes statistical methods nlp occurred field machine translation especially work ibm research systems able advantage existing multilingual textual corpora produced parliament canada european union result laws calling translation governmental proceedings official languages corresponding systems government systems depended corpora specifically developed tasks implemented systems continues major limitation success systems result great deal research gone methods effectively learning limited amounts data 2000s growth web increasing amounts raw unannotated language data available mid-1990s research increasingly focused unsupervised semi supervised learning algorithms algorithms learn data hand annotated desired answers combination annotated non annotated data generally task difficult supervised learning typically produces accurate results given input data enormous non annotated data available including things entire content world wide web inferior results algorithm low time complexity practical 2010s representation learning deep neural network style machine learning methods widespread natural language processing flurry results showing techniques[7][8 achieve state art results natural language tasks example language modeling,[9 parsing,[10][11 increasingly important medicine healthcare nlp analyze notes text electronic health records inaccessible study seeking improve care[12 early days language processing systems designed symbolic methods ie hand coding set rules coupled dictionary lookup:[13][14 writing grammars devising heuristic rules stemming recent systems based machine learning algorithms advantages hand produced rules learning procedures machine learning automatically focus common cases writing rules hand obvious effort directed automatic learning procedures use statistical inference algorithms produce models robust unfamiliar input eg containing words structures seen erroneous input eg misspelled words words accidentally omitted generally handling input gracefully handwritten rules generally creating systems handwritten rules soft decisions extremely difficult error prone time consuming systems based automatically learning rules accurate simply supplying input data systems based handwritten rules accurate increasing complexity rules difficult task particular limit complexity systems based handwritten rules systems unmanageable creating data input machine learning systems simply requires corresponding increase number man hours worked generally significant increases complexity annotation process despite popularity machine learning nlp research symbolic methods commonly training data insufficient successfully apply machine learning methods eg machine translation low resource languages provided apertium system preprocessing nlp pipelines eg tokenization postprocessing transforming output nlp pipelines eg knowledge extraction syntactic parses called statistical revolution\"[15][16 late 1980s mid-1990s natural language processing research relied heavily machine learning machine learning paradigm calls instead statistical inference automatically learn rules analysis large corpora plural form corpus set documents possibly human computer annotations typical real world examples different classes machine learning algorithms applied natural language processing tasks algorithms input large set features generated input data increasingly research focused statistical models soft probabilistic decisions based attaching real valued weights input feature complex valued embeddings,[17 neural networks general proposed eg speech[18 models advantage express relative certainty different possible answers producing reliable results model included component larger system earliest machine learning algorithms decision trees produced systems hard rules similar existing hand written rules speech tagging introduced use hidden markov models natural language processing increasingly research focused statistical models soft probabilistic decisions based attaching real valued weights features making input data cache language models speech recognition systems rely examples statistical models models generally robust given unfamiliar input especially input contains errors common real world data produce reliable results integrated larger system comprising multiple subtasks neural turn statistical methods nlp research largely replaced neural networks continue relevant contexts statistical interpretability transparency required major drawback statistical methods require elaborate feature engineering 2015,[19 field largely abandoned statistical methods shifted neural networks machine learning popular techniques include use word embeddings capture semantic properties words increase end end learning higher level task eg question answering instead relying pipeline separate intermediate tasks eg speech tagging dependency parsing areas shift entailed substantial changes nlp systems designed deep neural network based approaches viewed new paradigm distinct statistical natural language processing instance term neural machine translation nmt emphasizes fact deep learning based approaches machine translation directly learn sequence sequence transformations obviating need intermediate steps word alignment language modeling statistical machine translation smt latest works tend use non technical structure given task build proper neural network[20 following list commonly researched tasks natural language processing tasks direct real world applications commonly serve subtasks aid solving larger tasks natural language processing tasks closely intertwined subdivided categories convenience coarse division given based long standing trends field possible extrapolate future directions nlp trends topics long standing series conll shared tasks observed:[36 increasing interest multilinguality potentially multimodality english spanish dutch german bulgarian danish japanese portuguese slovenian swedish turkish basque catalan chinese greek hungarian italian turkish czech arabic languages 60+/100 languages elimination symbolic representations rule based supervised weakly supervised methods representation learning end end systems higher level nlp applications involve aspects emulate intelligent behaviour apparent comprehension natural language broadly speaking technical operationalization increasingly advanced aspects cognitive behaviour represents developmental trajectories nlp trends conll shared tasks cognition refers mental action process acquiring knowledge understanding thought experience senses\"[37 cognitive science interdisciplinary scientific study mind processes[38 cognitive linguistics interdisciplinary branch linguistics combining knowledge research psychology linguistics[39 especially age symbolic nlp area computational linguistics maintained strong ties cognitive studies example george lakoff offers methodology build natural language processing nlp algorithms perspective cognitive science findings cognitive linguistics,[40 defining aspects apply theory conceptual metaphor explained lakoff understanding idea terms provides idea intent author[41 example consider english word big comparison big tree author intent imply tree physically large relative trees authors experience metaphorically tomorrow big day author intent imply importance intent usages like big person remain somewhat ambiguous person cognitive nlp algorithm alike additional information assign relative measures meaning word phrase sentence piece text based information presented piece text analyzed eg means probabilistic context free grammar pcfg mathematical equation algorithms presented ties cognitive linguistics historical heritage nlp frequently addressed statistical turn 1990s approaches develop cognitive models technically operationalizable frameworks pursued context frameworks eg cognitive grammar,[42 functional grammar,[43 construction grammar,[44 computational psycholinguistics cognitive neuroscience eg act limited uptake mainstream nlp measured presence major conferences[45 acl recently ideas cognitive nlp revived approach achieve explainability eg notion cognitive ai\"[46 likewise ideas cognitive nlp inherent neural models multimodal nlp rarely explicit)[47'"
            ]
          },
          "metadata": {},
          "execution_count": 12
        }
      ]
    },
    {
      "cell_type": "code",
      "metadata": {
        "id": "yXnZXQxRsGJh"
      },
      "source": [
        "import nltk"
      ],
      "execution_count": 14,
      "outputs": []
    },
    {
      "cell_type": "code",
      "metadata": {
        "colab": {
          "base_uri": "https://localhost:8080/"
        },
        "id": "2n-UCHiQsLgB",
        "outputId": "91ce1161-376a-4d94-86ea-ddbef3f88574"
      },
      "source": [
        "nltk.download('punkt')"
      ],
      "execution_count": 16,
      "outputs": [
        {
          "output_type": "stream",
          "name": "stdout",
          "text": [
            "[nltk_data] Downloading package punkt to /root/nltk_data...\n",
            "[nltk_data]   Unzipping tokenizers/punkt.zip.\n"
          ]
        },
        {
          "output_type": "execute_result",
          "data": {
            "text/plain": [
              "True"
            ]
          },
          "metadata": {},
          "execution_count": 16
        }
      ]
    },
    {
      "cell_type": "code",
      "metadata": {
        "id": "WZmOWZo_rSTx"
      },
      "source": [
        "original_sentences = [sentence for sentence in nltk.sent_tokenize(article.cleaned_text)]"
      ],
      "execution_count": 17,
      "outputs": []
    },
    {
      "cell_type": "code",
      "metadata": {
        "id": "G6WCzd8jtL_t"
      },
      "source": [
        "from sklearn.feature_extraction.text import TfidfVectorizer\n",
        "from sklearn.metrics.pairwise import cosine_similarity"
      ],
      "execution_count": 23,
      "outputs": []
    },
    {
      "cell_type": "code",
      "metadata": {
        "id": "Eav2Kt3st-lJ"
      },
      "source": [
        "welcome_words_input = ('hey', 'hello', 'hi')\n",
        "welcome_words_ouput = ('hey', 'hello', 'hi', 'how are you?', 'welcome', 'how are you doing?')"
      ],
      "execution_count": 26,
      "outputs": []
    },
    {
      "cell_type": "code",
      "metadata": {
        "id": "HQ3V7mRMuC7V"
      },
      "source": [
        "import random\n",
        "def welcome_message(text):\n",
        "  for word in text.split():\n",
        "    if word.lower() in welcome_words_input:\n",
        "      return random.choice(welcome_words_ouput)"
      ],
      "execution_count": 27,
      "outputs": []
    },
    {
      "cell_type": "code",
      "metadata": {
        "id": "7FxSlOhNswd4"
      },
      "source": [
        "def answer(user_text, threshold = 0.3):\n",
        "  cleaned_sentences = []\n",
        "  for sentence in original_sentences:\n",
        "    cleaned_sentences.append(preprocessing(sentence))\n",
        "  #print(cleaned_sentences)\n",
        "\n",
        "  chatbot_answer = ''\n",
        "  user_text = preprocessing(user_text)\n",
        "  #print(user_text)\n",
        "  cleaned_sentences.append(user_text)\n",
        "  #print(cleaned_sentences[-1])\n",
        "\n",
        "  tfidf = TfidfVectorizer()\n",
        "  X_sentences = tfidf.fit_transform(cleaned_sentences)\n",
        "  #print(X_sentences.toarray()[-1])\n",
        "  similarity = cosine_similarity(X_sentences[-1], X_sentences)\n",
        "  #print(similarity)\n",
        "  sentence_index = similarity.argsort()[0][-2]\n",
        "  #print(sentence_index)\n",
        "  #print(similarity[0][sentence_index])\n",
        "\n",
        "  if similarity[0][sentence_index] < threshold:\n",
        "    chatbot_answer += 'Sorry, no answer was found!'\n",
        "  else:\n",
        "    chatbot_answer += original_sentences[sentence_index]\n",
        "\n",
        "  return chatbot_answer  "
      ],
      "execution_count": 24,
      "outputs": []
    },
    {
      "cell_type": "code",
      "metadata": {
        "colab": {
          "base_uri": "https://localhost:8080/",
          "height": 35
        },
        "id": "SO3vMC49r6mC",
        "outputId": "03b89662-fdb3-418e-a5f5-64097d6d57ec"
      },
      "source": [
        "answer('What is natural language processing?', 0.3)"
      ],
      "execution_count": 25,
      "outputs": [
        {
          "output_type": "execute_result",
          "data": {
            "application/vnd.google.colaboratory.intrinsic+json": {
              "type": "string"
            },
            "text/plain": [
              "'Natural language processing has its roots in the 1950s.'"
            ]
          },
          "metadata": {},
          "execution_count": 25
        }
      ]
    },
    {
      "cell_type": "code",
      "metadata": {
        "colab": {
          "base_uri": "https://localhost:8080/"
        },
        "id": "ldck1AMQuJiI",
        "outputId": "5ba02677-acef-4cd4-eaa6-77d377a1ee56"
      },
      "source": [
        "cont = True\n",
        "print('Hello! I am a chatbot and I will answer your questions about natural language processing')\n",
        "while cont == True:\n",
        "  user_text = input()\n",
        "  if user_text != 'quit':\n",
        "    if welcome_message(user_text) != None:\n",
        "      print('Chatbot: ' + welcome_message(user_text))\n",
        "    else:\n",
        "      print('Chatbot:')\n",
        "      print(answer(user_text))  \n",
        "  else:\n",
        "    cont = False\n",
        "    print('Chatbot: Bye! I will see you soon')"
      ],
      "execution_count": 28,
      "outputs": [
        {
          "output_type": "stream",
          "name": "stdout",
          "text": [
            "Hello! I am a chatbot and I will answer your questions about natural language processing\n",
            "hello\n",
            "Chatbot: hi\n",
            "who is Alan Turing\n",
            "Chatbot:\n",
            "Already in 1950, Alan Turing published an article titled \"Computing Machinery and Intelligence\" which proposed what is now called the Turing test as a criterion of intelligence, a task that involves the automated interpretation and generation of natural language, but at the time not articulated as a problem separate from artificial intelligence.\n",
            "What is artificial intelligence\n",
            "Chatbot:\n",
            "Already in 1950, Alan Turing published an article titled \"Computing Machinery and Intelligence\" which proposed what is now called the Turing test as a criterion of intelligence, a task that involves the automated interpretation and generation of natural language, but at the time not articulated as a problem separate from artificial intelligence.\n",
            "quit\n",
            "Chatbot: Bye! I will see you soon\n"
          ]
        }
      ]
    },
    {
      "cell_type": "code",
      "metadata": {
        "id": "ISElwq6is1Yl"
      },
      "source": [
        ""
      ],
      "execution_count": null,
      "outputs": []
    }
  ]
}